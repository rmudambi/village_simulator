{
 "cells": [
  {
   "cell_type": "code",
   "execution_count": null,
   "id": "c221e9e7-d1e9-4def-b465-bcbb9bdb1279",
   "metadata": {},
   "outputs": [],
   "source": [
    "import matplotlib.pyplot as plt\n",
    "import pandas as pd\n",
    "\n",
    "from village_simulator.simulation.calibration.rainfall import sample_rainfall_in_period\n",
    "from village_simulator.simulation.components.resources import WHEAT_HARVEST_DATE"
   ]
  },
  {
   "cell_type": "code",
   "execution_count": null,
   "id": "41228e83-bca4-49a4-ad40-1a370119da13",
   "metadata": {},
   "outputs": [],
   "source": [
    "num_years = 4000\n",
    "num_tiles = 100\n",
    "harvest_date = pd.Timestamp(2000, WHEAT_HARVEST_DATE[\"month\"], WHEAT_HARVEST_DATE[\"day\"])"
   ]
  },
  {
   "cell_type": "code",
   "execution_count": null,
   "id": "8267175c-810d-4d42-b547-72f1c1825aa9",
   "metadata": {},
   "outputs": [],
   "source": [
    "# get mid-growth period\n",
    "start_date = harvest_date - pd.Timedelta(days=180)\n",
    "end_date = start_date + pd.Timedelta(days=90)\n",
    "date_range = pd.date_range(start_date, end_date, inclusive=\"right\")\n",
    "\n",
    "mid_growth_rainfall = (\n",
    "    sample_rainfall_in_period(date_range, num_years, num_tiles)\n",
    "    .groupby([\"tile\", \"year\"]).sum()\n",
    ")\n",
    "mid_growth_rainfall.describe()"
   ]
  },
  {
   "cell_type": "code",
   "execution_count": null,
   "id": "e3b8f2bc-bf61-4b89-b110-3737550c9198",
   "metadata": {},
   "outputs": [],
   "source": [
    "bin_width = 25\n",
    "bins = int((mid_growth_rainfall.max() - mid_growth_rainfall.min()) / 25)\n",
    "plt.hist(mid_growth_rainfall, bins=bins, edgecolor='black')\n",
    "plt.show()"
   ]
  },
  {
   "cell_type": "code",
   "execution_count": null,
   "id": "7d4c6135-1843-4a22-8714-9b390b893062",
   "metadata": {},
   "outputs": [],
   "source": [
    "# get late-growth period\n",
    "start_date = harvest_date - pd.Timedelta(days=90)\n",
    "end_date = harvest_date\n",
    "date_range = pd.date_range(start_date, end_date, inclusive=\"right\")\n",
    "\n",
    "late_growth_rainfall = (\n",
    "    sample_rainfall_in_period(date_range, num_years, num_tiles)\n",
    "    .groupby([\"tile\", \"year\"]).sum()\n",
    ")\n",
    "late_growth_rainfall.describe()"
   ]
  },
  {
   "cell_type": "code",
   "execution_count": null,
   "id": "e3d684a0-c84f-4bde-acbc-72c50ee914fd",
   "metadata": {},
   "outputs": [],
   "source": [
    "bin_width = 25\n",
    "bins = int((late_growth_rainfall.max() - late_growth_rainfall.min()) / 25)\n",
    "plt.hist(late_growth_rainfall, bins=bins, edgecolor='black')\n",
    "plt.show()"
   ]
  }
 ],
 "metadata": {
  "kernelspec": {
   "display_name": "Python 3 (ipykernel)",
   "language": "python",
   "name": "python3"
  },
  "language_info": {
   "codemirror_mode": {
    "name": "ipython",
    "version": 3
   },
   "file_extension": ".py",
   "mimetype": "text/x-python",
   "name": "python",
   "nbconvert_exporter": "python",
   "pygments_lexer": "ipython3",
   "version": "3.11.5"
  }
 },
 "nbformat": 4,
 "nbformat_minor": 5
}
