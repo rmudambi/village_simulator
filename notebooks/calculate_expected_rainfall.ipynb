{
 "cells": [
  {
   "cell_type": "code",
   "execution_count": 2,
   "id": "c221e9e7-d1e9-4def-b465-bcbb9bdb1279",
   "metadata": {},
   "outputs": [],
   "source": [
    "import matplotlib.pyplot as plt\n",
    "import numpy as np\n",
    "import pandas as pd\n",
    "\n",
    "from village_simulator.simulation.calibration.rainfall import sample_rainfall_in_period\n",
    "from village_simulator.simulation.components.farming import WHEAT_HARVEST_DATE, WHEAT_SOWING_DATE"
   ]
  },
  {
   "cell_type": "code",
   "execution_count": 3,
   "id": "41228e83-bca4-49a4-ad40-1a370119da13",
   "metadata": {},
   "outputs": [],
   "source": [
    "num_years = 4000\n",
    "num_tiles = 100\n",
    "harvest_date = pd.Timestamp(2000, WHEAT_HARVEST_DATE[\"month\"], WHEAT_HARVEST_DATE[\"day\"])"
   ]
  },
  {
   "cell_type": "code",
   "execution_count": null,
   "id": "8267175c-810d-4d42-b547-72f1c1825aa9",
   "metadata": {},
   "outputs": [],
   "source": [
    "# get mid-growth period\n",
    "start_date = harvest_date - pd.Timedelta(days=180)\n",
    "end_date = start_date + pd.Timedelta(days=90)\n",
    "date_range = pd.date_range(start_date, end_date, inclusive=\"right\")\n",
    "\n",
    "mid_growth_rainfall_raw = sample_rainfall_in_period(date_range, num_years, num_tiles)\n",
    "mid_growth_rainfall = mid_growth_rainfall_raw.groupby([\"tile\", \"year\"]).sum()\n",
    "mid_growth_rainfall.describe()"
   ]
  },
  {
   "cell_type": "code",
   "execution_count": null,
   "id": "e3b8f2bc-bf61-4b89-b110-3737550c9198",
   "metadata": {},
   "outputs": [],
   "source": [
    "bin_width = 25\n",
    "bins = int((mid_growth_rainfall.max() - mid_growth_rainfall.min()) / 25)\n",
    "plt.hist(mid_growth_rainfall, bins=bins, edgecolor='black')\n",
    "plt.show()"
   ]
  },
  {
   "cell_type": "code",
   "execution_count": null,
   "id": "7d4c6135-1843-4a22-8714-9b390b893062",
   "metadata": {},
   "outputs": [],
   "source": [
    "# get late-growth period\n",
    "start_date = harvest_date - pd.Timedelta(days=90)\n",
    "end_date = harvest_date\n",
    "date_range = pd.date_range(start_date, end_date, inclusive=\"right\")\n",
    "\n",
    "late_growth_rainfall_raw = sample_rainfall_in_period(date_range, num_years, num_tiles)\n",
    "late_growth_rainfall = late_growth_rainfall_raw.groupby([\"tile\", \"year\"]).sum()\n",
    "late_growth_rainfall.describe()"
   ]
  },
  {
   "cell_type": "code",
   "execution_count": null,
   "id": "e3d684a0-c84f-4bde-acbc-72c50ee914fd",
   "metadata": {},
   "outputs": [],
   "source": [
    "bin_width = 25\n",
    "bins = int((late_growth_rainfall.max() - late_growth_rainfall.min()) / 25)\n",
    "plt.hist(late_growth_rainfall, bins=bins, edgecolor='black')\n",
    "plt.show()"
   ]
  },
  {
   "cell_type": "code",
   "execution_count": null,
   "id": "4d648d7b-e3a1-4087-a8de-31413714acc2",
   "metadata": {},
   "outputs": [],
   "source": [
    "late_growth_rainfall_raw.head()"
   ]
  },
  {
   "cell_type": "code",
   "execution_count": 4,
   "id": "984eb222-b828-4b7e-a5b5-9f02412e9803",
   "metadata": {},
   "outputs": [],
   "source": [
    "num_years = 1_000\n",
    "sowing_date = pd.Timestamp(1999, WHEAT_SOWING_DATE[\"month\"], WHEAT_SOWING_DATE[\"day\"])"
   ]
  },
  {
   "cell_type": "code",
   "execution_count": 5,
   "id": "307fc2d0-7377-4f6c-b8ad-802d414b3fef",
   "metadata": {},
   "outputs": [],
   "source": [
    "# get full growing period\n",
    "start_date = sowing_date\n",
    "end_date = harvest_date\n",
    "date_range = pd.date_range(start_date, end_date, inclusive=\"right\")\n",
    "\n",
    "total_rainfall_raw = sample_rainfall_in_period(date_range, num_years, num_tiles)"
   ]
  },
  {
   "cell_type": "code",
   "execution_count": 6,
   "id": "85ce485d-2255-4a19-a213-b8917eb55366",
   "metadata": {},
   "outputs": [
    {
     "data": {
      "text/plain": [
       "13756632"
      ]
     },
     "execution_count": 6,
     "metadata": {},
     "output_type": "execute_result"
    }
   ],
   "source": [
    "((total_rainfall_raw.diff() == 0) & (total_rainfall_raw == 0)).sum()"
   ]
  },
  {
   "cell_type": "code",
   "execution_count": 9,
   "id": "a5f70e40-f5f2-46d7-b1dd-f233d0e5e49c",
   "metadata": {},
   "outputs": [
    {
     "data": {
      "text/html": [
       "<div>\n",
       "<style scoped>\n",
       "    .dataframe tbody tr th:only-of-type {\n",
       "        vertical-align: middle;\n",
       "    }\n",
       "\n",
       "    .dataframe tbody tr th {\n",
       "        vertical-align: top;\n",
       "    }\n",
       "\n",
       "    .dataframe thead th {\n",
       "        text-align: right;\n",
       "    }\n",
       "</style>\n",
       "<table border=\"1\" class=\"dataframe\">\n",
       "  <thead>\n",
       "    <tr style=\"text-align: right;\">\n",
       "      <th></th>\n",
       "      <th>cumulative_dry_days</th>\n",
       "    </tr>\n",
       "  </thead>\n",
       "  <tbody>\n",
       "    <tr>\n",
       "      <th>count</th>\n",
       "      <td>100000.000000</td>\n",
       "    </tr>\n",
       "    <tr>\n",
       "      <th>mean</th>\n",
       "      <td>90.340000</td>\n",
       "    </tr>\n",
       "    <tr>\n",
       "      <th>std</th>\n",
       "      <td>9.411869</td>\n",
       "    </tr>\n",
       "    <tr>\n",
       "      <th>min</th>\n",
       "      <td>53.000000</td>\n",
       "    </tr>\n",
       "    <tr>\n",
       "      <th>25%</th>\n",
       "      <td>84.000000</td>\n",
       "    </tr>\n",
       "    <tr>\n",
       "      <th>50%</th>\n",
       "      <td>90.000000</td>\n",
       "    </tr>\n",
       "    <tr>\n",
       "      <th>75%</th>\n",
       "      <td>97.000000</td>\n",
       "    </tr>\n",
       "    <tr>\n",
       "      <th>max</th>\n",
       "      <td>129.000000</td>\n",
       "    </tr>\n",
       "  </tbody>\n",
       "</table>\n",
       "</div>"
      ],
      "text/plain": [
       "       cumulative_dry_days\n",
       "count        100000.000000\n",
       "mean             90.340000\n",
       "std               9.411869\n",
       "min              53.000000\n",
       "25%              84.000000\n",
       "50%              90.000000\n",
       "75%              97.000000\n",
       "max             129.000000"
      ]
     },
     "execution_count": 9,
     "metadata": {},
     "output_type": "execute_result"
    }
   ],
   "source": [
    "total_rainfall_raw = total_rainfall_raw.reorder_levels(['tile', 'year', 'date']).sort_index().reset_index()\n",
    "total_rainfall_raw[\"cumulative_dry_days\"] = ((total_rainfall_raw[0].diff() == 0) & (total_rainfall_raw[0] == 0) & (total_rainfall_raw[\"year\"].diff() == 0))\n",
    "cumulative_dry_days = total_rainfall_raw[['year', 'tile', 'cumulative_dry_days']].groupby([\"year\", \"tile\"]).sum()\n",
    "cumulative_dry_days.describe()"
   ]
  },
  {
   "cell_type": "code",
   "execution_count": 13,
   "id": "55571baa-37a4-4f88-a82d-c1ee33b4828b",
   "metadata": {},
   "outputs": [
    {
     "name": "stderr",
     "output_type": "stream",
     "text": [
      "/tmp/ipykernel_280407/1927378605.py:2: FutureWarning: Calling int on a single element Series is deprecated and will raise a TypeError in the future. Use int(ser.iloc[0]) instead\n",
      "  bins = int((cumulative_dry_days.max() - cumulative_dry_days.min()) / bin_width)\n"
     ]
    },
    {
     "data": {
      "image/png": "[encoded data removed]",
      "text/plain": [
       "<Figure size 640x480 with 1 Axes>"
      ]
     },
     "metadata": {},
     "output_type": "display_data"
    }
   ],
   "source": [
    "bin_width = 3\n",
    "bins = int((cumulative_dry_days.max() - cumulative_dry_days.min()) / bin_width)\n",
    "plt.hist(cumulative_dry_days, bins=bins, edgecolor='black')\n",
    "plt.show()"
   ]
  }
 ],
 "metadata": {
  "kernelspec": {
   "display_name": "Python 3 (ipykernel)",
   "language": "python",
   "name": "python3"
  },
  "language_info": {
   "codemirror_mode": {
    "name": "ipython",
    "version": 3
   },
   "file_extension": ".py",
   "mimetype": "text/x-python",
   "name": "python",
   "nbconvert_exporter": "python",
   "pygments_lexer": "ipython3",
   "version": "3.11.5"
  }
 },
 "nbformat": 4,
 "nbformat_minor": 5
}
