{
 "cells": [
  {
   "cell_type": "code",
   "execution_count": 1,
   "id": "446c7ec9-deac-4a1f-951a-fb578a14ba1c",
   "metadata": {},
   "outputs": [],
   "source": [
    "import matplotlib.pyplot as plt\n",
    "import numpy as np\n",
    "import pandas as pd\n",
    "from vivarium import InteractiveContext"
   ]
  },
  {
   "cell_type": "code",
   "execution_count": null,
   "id": "e118afb5-ba38-4984-be13-e96c753e8b16",
   "metadata": {},
   "outputs": [],
   "source": [
    "sim = InteractiveContext(\"../src/village_simulator/simulation/specification.yaml\")"
   ]
  },
  {
   "cell_type": "code",
   "execution_count": null,
   "id": "1021a172-6004-4bee-9781-91d49a9fec5b",
   "metadata": {
    "scrolled": true
   },
   "outputs": [],
   "source": [
    "p_0 = sim.get_population()\n",
    "p_0"
   ]
  },
  {
   "cell_type": "code",
   "execution_count": null,
   "id": "c163fb3e-683c-4fa6-917e-f7bbf705fb91",
   "metadata": {},
   "outputs": [],
   "source": [
    "%%time\n",
    "data = []\n",
    "for _ in range(400):\n",
    "    sim.step()\n",
    "    temperature = sim.get_population()\n",
    "    dates = pd.Series(sim._clock.time, name=\"date\", index=temperature.index)\n",
    "    data.append(pd.concat([dates, temperature], axis=1))\n",
    "\n",
    "data = pd.concat(data)"
   ]
  },
  {
   "cell_type": "code",
   "execution_count": null,
   "id": "49183419-616d-4cdb-8546-bd8e4a0b47a1",
   "metadata": {},
   "outputs": [],
   "source": [
    "import matplotlib.pyplot as plt\n",
    "\n",
    "# Sample data\n",
    "x = data[\"date\"]\n",
    "y = data[\"temperature\"]\n",
    "\n",
    "# Create a scatterplot\n",
    "plt.scatter(x, y, label='Data Points', color='blue', marker='o')\n",
    "\n",
    "# Add labels and a title\n",
    "plt.xlabel('Date')\n",
    "plt.ylabel('Temperature')\n",
    "plt.title('Temperature over time')\n",
    "\n",
    "# Show the plot\n",
    "plt.grid(True)\n",
    "plt.show()"
   ]
  },
  {
   "cell_type": "code",
   "execution_count": null,
   "id": "f1c60d01-281e-4035-8412-249e126b909a",
   "metadata": {},
   "outputs": [],
   "source": [
    "# Sample data\n",
    "x = data[\"date\"]\n",
    "y = data[\"rainfall\"]\n",
    "\n",
    "# Create a scatterplot\n",
    "plt.scatter(x, y, label='Data Points', color='blue', marker='o')\n",
    "\n",
    "# Add labels and a title\n",
    "plt.xlabel('Date')\n",
    "plt.ylabel('Rainfall')\n",
    "plt.title('Rainfall over time')\n",
    "\n",
    "# Show the plot\n",
    "plt.grid(True)\n",
    "plt.show()"
   ]
  },
  {
   "cell_type": "code",
   "execution_count": null,
   "id": "c7355b5a-32ce-473f-8ae0-fc55d41e40fd",
   "metadata": {},
   "outputs": [],
   "source": [
    "# Sample data\n",
    "x = data[\"date\"]\n",
    "y = data[\"wheat_projected_yield\"]\n",
    "\n",
    "# Create a scatterplot\n",
    "plt.scatter(x, y, label='Data Points', color='blue', marker='o')\n",
    "\n",
    "# Add labels and a title\n",
    "plt.xlabel('Date')\n",
    "plt.ylabel('Rainfall')\n",
    "plt.title('Projected wheat over time')\n",
    "\n",
    "# Show the plot\n",
    "plt.grid(True)\n",
    "plt.show()"
   ]
  },
  {
   "cell_type": "code",
   "execution_count": null,
   "id": "d767a0d1-9189-423f-b7ba-0899ed960b43",
   "metadata": {},
   "outputs": [],
   "source": [
    "data[\"rainfall\"].mean()"
   ]
  },
  {
   "cell_type": "code",
   "execution_count": null,
   "id": "6ee06b98-ac44-449d-97c2-837d15df0903",
   "metadata": {},
   "outputs": [],
   "source": [
    "# Sample data\n",
    "x = data[\"date\"]\n",
    "y = data[\"wheat_stores\"]\n",
    "\n",
    "# Create a scatterplot\n",
    "plt.scatter(x, y, label='Data Points', color='blue', marker='o')\n",
    "\n",
    "# Add labels and a title\n",
    "plt.xlabel('Date')\n",
    "plt.ylabel('Rainfall')\n",
    "plt.title('Wheat over time')\n",
    "\n",
    "# Show the plot\n",
    "plt.grid(True)\n",
    "plt.show()"
   ]
  },
  {
   "cell_type": "code",
   "execution_count": null,
   "id": "64ac7038-0eff-41f3-a720-871294c0fd18",
   "metadata": {},
   "outputs": [],
   "source": [
    "# Sample data\n",
    "x = data[\"date\"]\n",
    "y = data[\"cumulative_dry_days\"]\n",
    "\n",
    "# Create a scatterplot\n",
    "plt.scatter(x, y, label='Data Points', color='blue', marker='o')\n",
    "\n",
    "# Add labels and a title\n",
    "plt.xlabel('Date')\n",
    "plt.ylabel('Rainfall')\n",
    "plt.title('cumulative_dry_days')\n",
    "\n",
    "# Show the plot\n",
    "plt.grid(True)\n",
    "plt.show()"
   ]
  },
  {
   "cell_type": "code",
   "execution_count": null,
   "id": "8fc32bde-3c79-4ea9-a897-399ce0a683ae",
   "metadata": {},
   "outputs": [],
   "source": [
    "# Sample data\n",
    "x = data[\"date\"]\n",
    "y = data[\"rainfall_mid_growth\"]\n",
    "\n",
    "# Create a scatterplot\n",
    "plt.scatter(x, y, label='Data Points', color='blue', marker='o')\n",
    "\n",
    "# Add labels and a title\n",
    "plt.xlabel('Date')\n",
    "plt.ylabel('Rainfall')\n",
    "plt.title('rainfall_mid_growth')\n",
    "\n",
    "# Show the plot\n",
    "plt.grid(True)\n",
    "plt.show()"
   ]
  },
  {
   "cell_type": "code",
   "execution_count": null,
   "id": "ad8a82dd-874c-4e15-902e-129d6b661481",
   "metadata": {},
   "outputs": [],
   "source": [
    "# Sample data\n",
    "x = data[\"date\"]\n",
    "y = data[\"rainfall_late_growth\"]\n",
    "\n",
    "# Create a scatterplot\n",
    "plt.scatter(x, y, label='Data Points', color='blue', marker='o')\n",
    "\n",
    "# Add labels and a title\n",
    "plt.xlabel('Date')\n",
    "plt.ylabel('Rainfall')\n",
    "plt.title('rainfall_late_growth')\n",
    "\n",
    "# Show the plot\n",
    "plt.grid(True)\n",
    "plt.show()"
   ]
  },
  {
   "cell_type": "code",
   "execution_count": 2,
   "id": "f26e8077-5f22-44fe-8e88-f77daf330f25",
   "metadata": {},
   "outputs": [
    {
     "data": {
      "text/html": [
       "<div>\n",
       "<style scoped>\n",
       "    .dataframe tbody tr th:only-of-type {\n",
       "        vertical-align: middle;\n",
       "    }\n",
       "\n",
       "    .dataframe tbody tr th {\n",
       "        vertical-align: top;\n",
       "    }\n",
       "\n",
       "    .dataframe thead th {\n",
       "        text-align: right;\n",
       "    }\n",
       "</style>\n",
       "<table border=\"1\" class=\"dataframe\">\n",
       "  <thead>\n",
       "    <tr style=\"text-align: right;\">\n",
       "      <th></th>\n",
       "      <th>a</th>\n",
       "      <th>b</th>\n",
       "    </tr>\n",
       "  </thead>\n",
       "  <tbody>\n",
       "    <tr>\n",
       "      <th>0</th>\n",
       "      <td>4</td>\n",
       "      <td>6</td>\n",
       "    </tr>\n",
       "    <tr>\n",
       "      <th>1</th>\n",
       "      <td>2</td>\n",
       "      <td>2</td>\n",
       "    </tr>\n",
       "    <tr>\n",
       "      <th>2</th>\n",
       "      <td>3</td>\n",
       "      <td>3</td>\n",
       "    </tr>\n",
       "  </tbody>\n",
       "</table>\n",
       "</div>"
      ],
      "text/plain": [
       "   a  b\n",
       "0  4  6\n",
       "1  2  2\n",
       "2  3  3"
      ]
     },
     "execution_count": 2,
     "metadata": {},
     "output_type": "execute_result"
    }
   ],
   "source": [
    "df = pd.DataFrame({\"a\": [4, 2, 3], 'b': [6, 2, 3]})\n",
    "df"
   ]
  }
 ],
 "metadata": {
  "kernelspec": {
   "display_name": "Python 3 (ipykernel)",
   "language": "python",
   "name": "python3"
  },
  "language_info": {
   "codemirror_mode": {
    "name": "ipython",
    "version": 3
   },
   "file_extension": ".py",
   "mimetype": "text/x-python",
   "name": "python",
   "nbconvert_exporter": "python",
   "pygments_lexer": "ipython3",
   "version": "3.11.5"
  }
 },
 "nbformat": 4,
 "nbformat_minor": 5
}
