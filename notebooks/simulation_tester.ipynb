{
 "cells": [
  {
   "cell_type": "code",
   "execution_count": null,
   "id": "446c7ec9-deac-4a1f-951a-fb578a14ba1c",
   "metadata": {},
   "outputs": [],
   "source": [
    "from vivarium import InteractiveContext"
   ]
  },
  {
   "cell_type": "code",
   "execution_count": null,
   "id": "e118afb5-ba38-4984-be13-e96c753e8b16",
   "metadata": {},
   "outputs": [],
   "source": [
    "sim = InteractiveContext(\"../src/village_simulator/simulation/specification.yaml\")"
   ]
  },
  {
   "cell_type": "code",
   "execution_count": null,
   "id": "1021a172-6004-4bee-9781-91d49a9fec5b",
   "metadata": {},
   "outputs": [],
   "source": [
    "sim.get_population()"
   ]
  },
  {
   "cell_type": "code",
   "execution_count": null,
   "id": "6b538a11-00e7-4611-89f4-9e0bd2b163b2",
   "metadata": {},
   "outputs": [],
   "source": [
    "sim.step()\n",
    "sim.get_population()"
   ]
  }
 ],
 "metadata": {
  "kernelspec": {
   "display_name": "Python 3 (ipykernel)",
   "language": "python",
   "name": "python3"
  },
  "language_info": {
   "codemirror_mode": {
    "name": "ipython",
    "version": 3
   },
   "file_extension": ".py",
   "mimetype": "text/x-python",
   "name": "python",
   "nbconvert_exporter": "python",
   "pygments_lexer": "ipython3",
   "version": "3.11.5"
  }
 },
 "nbformat": 4,
 "nbformat_minor": 5
}
